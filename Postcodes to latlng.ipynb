{
 "cells": [
  {
   "cell_type": "code",
   "execution_count": 1,
   "metadata": {},
   "outputs": [],
   "source": [
    "import csv\n",
    "import pandas as pd\n",
    "import urllib.request as ur, json\n",
    "import pprint as p\n",
    "import time\n",
    "import json"
   ]
  },
  {
   "cell_type": "code",
   "execution_count": 2,
   "metadata": {},
   "outputs": [],
   "source": [
    "df=pd.read_csv(\"sample.csv\") # you can use your own data"
   ]
  },
  {
   "cell_type": "code",
   "execution_count": 3,
   "metadata": {},
   "outputs": [],
   "source": [
    "# convert postcode to list\n",
    "for column_name in df.columns:\n",
    "    postCodeList = df[\"Postcode\"].tolist()"
   ]
  },
  {
   "cell_type": "code",
   "execution_count": 4,
   "metadata": {},
   "outputs": [],
   "source": [
    "postCodeList\n",
    "postCodeList = [str(int) for int in postCodeList] "
   ]
  },
  {
   "cell_type": "code",
   "execution_count": 5,
   "metadata": {},
   "outputs": [
    {
     "output_type": "execute_result",
     "data": {
      "text/plain": [
       "['560447', '560630', '560726']"
      ]
     },
     "metadata": {},
     "execution_count": 5
    }
   ],
   "source": [
    "postCodeList"
   ]
  },
  {
   "cell_type": "code",
   "execution_count": 6,
   "metadata": {},
   "outputs": [],
   "source": [
    "for i,x in enumerate(postCodeList):\n",
    "    if len(x) != 6:\n",
    "        postCodeList[i] = \"0\" + x\n",
    "        "
   ]
  },
  {
   "cell_type": "code",
   "execution_count": 7,
   "metadata": {},
   "outputs": [],
   "source": [
    "def retrieve_data(givenURL):\n",
    "    URL2 = givenURL\n",
    "    s = ur.urlopen(URL2)\n",
    "    data = json.loads(s.read())\n",
    "    return data"
   ]
  },
  {
   "cell_type": "code",
   "execution_count": 8,
   "metadata": {},
   "outputs": [],
   "source": [
    "Dic = {}\n",
    "for no in postCodeList:\n",
    "    data = retrieve_data(f\"https://maps.googleapis.com/maps/api/geocode/json?key=&components=postal_code:{no}\") # rem to change the key\n",
    "    Dic[no] = data['results']\n",
    "    #time.sleep(0.001)\n",
    "    "
   ]
  },
  {
   "cell_type": "code",
   "execution_count": 9,
   "metadata": {},
   "outputs": [
    {
     "output_type": "execute_result",
     "data": {
      "text/plain": [
       "{'560447': [{'address_components': [{'long_name': '560447',\n",
       "     'short_name': '560447',\n",
       "     'types': ['postal_code']},\n",
       "    {'long_name': 'Ang Mo Kio',\n",
       "     'short_name': 'Ang Mo Kio',\n",
       "     'types': ['neighborhood', 'political']},\n",
       "    {'long_name': 'Singapore',\n",
       "     'short_name': 'Singapore',\n",
       "     'types': ['locality', 'political']},\n",
       "    {'long_name': 'Singapore',\n",
       "     'short_name': 'SG',\n",
       "     'types': ['country', 'political']}],\n",
       "   'formatted_address': 'Singapore 560447',\n",
       "   'geometry': {'location': {'lat': 1.367554, 'lng': 103.855892},\n",
       "    'location_type': 'APPROXIMATE',\n",
       "    'viewport': {'northeast': {'lat': 1.3787088, 'lng': 103.8718994},\n",
       "     'southwest': {'lat': 1.3563992, 'lng': 103.8398846}}},\n",
       "   'place_id': 'ChIJ11nnSeMW2jERxVpCDTAALbw',\n",
       "   'types': ['postal_code']}],\n",
       " '560630': [{'address_components': [{'long_name': '560630',\n",
       "     'short_name': '560630',\n",
       "     'types': ['postal_code']},\n",
       "    {'long_name': 'Ang Mo Kio',\n",
       "     'short_name': 'Ang Mo Kio',\n",
       "     'types': ['neighborhood', 'political']},\n",
       "    {'long_name': 'Singapore',\n",
       "     'short_name': 'Singapore',\n",
       "     'types': ['locality', 'political']},\n",
       "    {'long_name': 'Singapore',\n",
       "     'short_name': 'SG',\n",
       "     'types': ['country', 'political']}],\n",
       "   'formatted_address': 'Singapore 560630',\n",
       "   'geometry': {'location': {'lat': 1.380585, 'lng': 103.840906},\n",
       "    'location_type': 'APPROXIMATE',\n",
       "    'viewport': {'northeast': {'lat': 1.3917397, 'lng': 103.8569134},\n",
       "     'southwest': {'lat': 1.3694302, 'lng': 103.8248986}}},\n",
       "   'place_id': 'ChIJy4vu4sAW2jERaAZkMc0KlZY',\n",
       "   'types': ['postal_code']}],\n",
       " '560726': [{'address_components': [{'long_name': '560726',\n",
       "     'short_name': '560726',\n",
       "     'types': ['postal_code']},\n",
       "    {'long_name': 'Ang Mo Kio',\n",
       "     'short_name': 'Ang Mo Kio',\n",
       "     'types': ['neighborhood', 'political']},\n",
       "    {'long_name': 'Singapore',\n",
       "     'short_name': 'Singapore',\n",
       "     'types': ['locality', 'political']},\n",
       "    {'long_name': 'Singapore',\n",
       "     'short_name': 'SG',\n",
       "     'types': ['country', 'political']}],\n",
       "   'formatted_address': 'Singapore 560726',\n",
       "   'geometry': {'location': {'lat': 1.372778, 'lng': 103.846465},\n",
       "    'location_type': 'APPROXIMATE',\n",
       "    'viewport': {'northeast': {'lat': 1.3839328, 'lng': 103.8624724},\n",
       "     'southwest': {'lat': 1.3616232, 'lng': 103.8304576}}},\n",
       "   'place_id': 'ChIJi7OgfegW2jERElj0cKz3ABM',\n",
       "   'types': ['postal_code']}]}"
      ]
     },
     "metadata": {},
     "execution_count": 9
    }
   ],
   "source": [
    "Dic"
   ]
  },
  {
   "cell_type": "code",
   "execution_count": 10,
   "metadata": {},
   "outputs": [
    {
     "output_type": "stream",
     "name": "stdout",
     "text": [
      "{'560447': [{'address_components': [{'long_name': '560447',\n                                     'short_name': '560447',\n                                     'types': ['postal_code']},\n                                    {'long_name': 'Ang Mo Kio',\n                                     'short_name': 'Ang Mo Kio',\n                                     'types': ['neighborhood', 'political']},\n                                    {'long_name': 'Singapore',\n                                     'short_name': 'Singapore',\n                                     'types': ['locality', 'political']},\n                                    {'long_name': 'Singapore',\n                                     'short_name': 'SG',\n                                     'types': ['country', 'political']}],\n             'formatted_address': 'Singapore 560447',\n             'geometry': {'location': {'lat': 1.367554, 'lng': 103.855892},\n                          'location_type': 'APPROXIMATE',\n                          'viewport': {'northeast': {'lat': 1.3787088,\n                                                     'lng': 103.8718994},\n                                       'southwest': {'lat': 1.3563992,\n                                                     'lng': 103.8398846}}},\n             'place_id': 'ChIJ11nnSeMW2jERxVpCDTAALbw',\n             'types': ['postal_code']}],\n '560630': [{'address_components': [{'long_name': '560630',\n                                     'short_name': '560630',\n                                     'types': ['postal_code']},\n                                    {'long_name': 'Ang Mo Kio',\n                                     'short_name': 'Ang Mo Kio',\n                                     'types': ['neighborhood', 'political']},\n                                    {'long_name': 'Singapore',\n                                     'short_name': 'Singapore',\n                                     'types': ['locality', 'political']},\n                                    {'long_name': 'Singapore',\n                                     'short_name': 'SG',\n                                     'types': ['country', 'political']}],\n             'formatted_address': 'Singapore 560630',\n             'geometry': {'location': {'lat': 1.380585, 'lng': 103.840906},\n                          'location_type': 'APPROXIMATE',\n                          'viewport': {'northeast': {'lat': 1.3917397,\n                                                     'lng': 103.8569134},\n                                       'southwest': {'lat': 1.3694302,\n                                                     'lng': 103.8248986}}},\n             'place_id': 'ChIJy4vu4sAW2jERaAZkMc0KlZY',\n             'types': ['postal_code']}],\n '560726': [{'address_components': [{'long_name': '560726',\n                                     'short_name': '560726',\n                                     'types': ['postal_code']},\n                                    {'long_name': 'Ang Mo Kio',\n                                     'short_name': 'Ang Mo Kio',\n                                     'types': ['neighborhood', 'political']},\n                                    {'long_name': 'Singapore',\n                                     'short_name': 'Singapore',\n                                     'types': ['locality', 'political']},\n                                    {'long_name': 'Singapore',\n                                     'short_name': 'SG',\n                                     'types': ['country', 'political']}],\n             'formatted_address': 'Singapore 560726',\n             'geometry': {'location': {'lat': 1.372778, 'lng': 103.846465},\n                          'location_type': 'APPROXIMATE',\n                          'viewport': {'northeast': {'lat': 1.3839328,\n                                                     'lng': 103.8624724},\n                                       'southwest': {'lat': 1.3616232,\n                                                     'lng': 103.8304576}}},\n             'place_id': 'ChIJi7OgfegW2jERElj0cKz3ABM',\n             'types': ['postal_code']}]}\n"
     ]
    }
   ],
   "source": [
    "p.pprint(Dic)"
   ]
  },
  {
   "cell_type": "code",
   "execution_count": 11,
   "metadata": {},
   "outputs": [],
   "source": [
    "import json\n",
    "with open(\"output.json\", 'w') as jsonfile:  \n",
    "    json.dump(Dic, jsonfile,  indent = 4)"
   ]
  },
  {
   "cell_type": "code",
   "execution_count": 12,
   "metadata": {},
   "outputs": [],
   "source": [
    "# read file\n",
    "obj = {}\n",
    "with open('output.json', 'r') as myfile:\n",
    "    data=myfile.read()\n",
    "# parse file\n",
    "data = json.loads(data)\n",
    "obj = data.copy()"
   ]
  },
  {
   "cell_type": "code",
   "execution_count": 13,
   "metadata": {},
   "outputs": [
    {
     "output_type": "execute_result",
     "data": {
      "text/plain": [
       "{'560447': [{'address_components': [{'long_name': '560447',\n",
       "     'short_name': '560447',\n",
       "     'types': ['postal_code']},\n",
       "    {'long_name': 'Ang Mo Kio',\n",
       "     'short_name': 'Ang Mo Kio',\n",
       "     'types': ['neighborhood', 'political']},\n",
       "    {'long_name': 'Singapore',\n",
       "     'short_name': 'Singapore',\n",
       "     'types': ['locality', 'political']},\n",
       "    {'long_name': 'Singapore',\n",
       "     'short_name': 'SG',\n",
       "     'types': ['country', 'political']}],\n",
       "   'formatted_address': 'Singapore 560447',\n",
       "   'geometry': {'location': {'lat': 1.367554, 'lng': 103.855892},\n",
       "    'location_type': 'APPROXIMATE',\n",
       "    'viewport': {'northeast': {'lat': 1.3787088, 'lng': 103.8718994},\n",
       "     'southwest': {'lat': 1.3563992, 'lng': 103.8398846}}},\n",
       "   'place_id': 'ChIJ11nnSeMW2jERxVpCDTAALbw',\n",
       "   'types': ['postal_code']}],\n",
       " '560630': [{'address_components': [{'long_name': '560630',\n",
       "     'short_name': '560630',\n",
       "     'types': ['postal_code']},\n",
       "    {'long_name': 'Ang Mo Kio',\n",
       "     'short_name': 'Ang Mo Kio',\n",
       "     'types': ['neighborhood', 'political']},\n",
       "    {'long_name': 'Singapore',\n",
       "     'short_name': 'Singapore',\n",
       "     'types': ['locality', 'political']},\n",
       "    {'long_name': 'Singapore',\n",
       "     'short_name': 'SG',\n",
       "     'types': ['country', 'political']}],\n",
       "   'formatted_address': 'Singapore 560630',\n",
       "   'geometry': {'location': {'lat': 1.380585, 'lng': 103.840906},\n",
       "    'location_type': 'APPROXIMATE',\n",
       "    'viewport': {'northeast': {'lat': 1.3917397, 'lng': 103.8569134},\n",
       "     'southwest': {'lat': 1.3694302, 'lng': 103.8248986}}},\n",
       "   'place_id': 'ChIJy4vu4sAW2jERaAZkMc0KlZY',\n",
       "   'types': ['postal_code']}],\n",
       " '560726': [{'address_components': [{'long_name': '560726',\n",
       "     'short_name': '560726',\n",
       "     'types': ['postal_code']},\n",
       "    {'long_name': 'Ang Mo Kio',\n",
       "     'short_name': 'Ang Mo Kio',\n",
       "     'types': ['neighborhood', 'political']},\n",
       "    {'long_name': 'Singapore',\n",
       "     'short_name': 'Singapore',\n",
       "     'types': ['locality', 'political']},\n",
       "    {'long_name': 'Singapore',\n",
       "     'short_name': 'SG',\n",
       "     'types': ['country', 'political']}],\n",
       "   'formatted_address': 'Singapore 560726',\n",
       "   'geometry': {'location': {'lat': 1.372778, 'lng': 103.846465},\n",
       "    'location_type': 'APPROXIMATE',\n",
       "    'viewport': {'northeast': {'lat': 1.3839328, 'lng': 103.8624724},\n",
       "     'southwest': {'lat': 1.3616232, 'lng': 103.8304576}}},\n",
       "   'place_id': 'ChIJi7OgfegW2jERElj0cKz3ABM',\n",
       "   'types': ['postal_code']}]}"
      ]
     },
     "metadata": {},
     "execution_count": 13
    }
   ],
   "source": [
    "obj"
   ]
  },
  {
   "cell_type": "code",
   "execution_count": 14,
   "metadata": {},
   "outputs": [],
   "source": [
    "lat = []\n",
    "lng = []\n",
    "errorList = []\n",
    "for code in postCodeList:\n",
    "    a = obj[code]\n",
    "    for i in a:\n",
    "        #print(code)\n",
    "        try:\n",
    "            lat.append(a[0]['geometry']['location']['lat'])\n",
    "            lng.append(a[0]['geometry']['location']['lng'])\n",
    "        except:\n",
    "            errorList.append(code)\n",
    "            "
   ]
  },
  {
   "cell_type": "code",
   "execution_count": 15,
   "metadata": {},
   "outputs": [
    {
     "output_type": "execute_result",
     "data": {
      "text/plain": [
       "[103.855892, 103.840906, 103.846465]"
      ]
     },
     "metadata": {},
     "execution_count": 15
    }
   ],
   "source": [
    "lat\n",
    "lng"
   ]
  },
  {
   "cell_type": "code",
   "execution_count": 16,
   "metadata": {},
   "outputs": [],
   "source": [
    "final = pd.DataFrame(\n",
    "    {'Postcodes': postCodeList,\n",
    "     'Lattitude': lat,\n",
    "     'Longtitude': lng\n",
    "    })"
   ]
  },
  {
   "cell_type": "code",
   "execution_count": null,
   "metadata": {},
   "outputs": [],
   "source": []
  },
  {
   "cell_type": "code",
   "execution_count": null,
   "metadata": {},
   "outputs": [],
   "source": []
  }
 ],
 "metadata": {
  "kernelspec": {
   "name": "python3610jvsc74a57bd071ca1c24dfcb85698c00152abced4525410ec53fae9ff0d717bcf82ee48d9ac6",
   "display_name": "Python 3.8.3 64-bit ('base': conda)"
  },
  "language_info": {
   "codemirror_mode": {
    "name": "ipython",
    "version": 3
   },
   "file_extension": ".py",
   "mimetype": "text/x-python",
   "name": "python",
   "nbconvert_exporter": "python",
   "pygments_lexer": "ipython3",
   "version": "3.6.10"
  },
  "metadata": {
   "interpreter": {
    "hash": "aeecc0929a7c0769b368497e95bcdbd632785a84721d56cedc065d567506b17e"
   }
  }
 },
 "nbformat": 4,
 "nbformat_minor": 4
}